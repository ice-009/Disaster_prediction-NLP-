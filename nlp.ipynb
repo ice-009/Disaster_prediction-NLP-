{
 "cells": [
  {
   "cell_type": "code",
   "execution_count": 12,
   "metadata": {},
   "outputs": [],
   "source": [
    "import numpy as np\n",
    "import pandas as pd\n",
    "\n",
    "import nltk\n"
   ]
  },
  {
   "cell_type": "code",
   "execution_count": 13,
   "metadata": {},
   "outputs": [],
   "source": [
    "train=pd.read_csv('train.csv')"
   ]
  },
  {
   "cell_type": "code",
   "execution_count": 14,
   "metadata": {},
   "outputs": [],
   "source": [
    "test= pd.read_csv('test.csv')"
   ]
  },
  {
   "cell_type": "code",
   "execution_count": 15,
   "metadata": {},
   "outputs": [],
   "source": [
    "train= train.drop_duplicates(subset='text', keep=False)\n",
    "corpus= train['text'].to_list()\n",
    "# print(corpus)"
   ]
  },
  {
   "cell_type": "code",
   "execution_count": 16,
   "metadata": {},
   "outputs": [],
   "source": [
    "def pre_process(sentence):\n",
    "    \n",
    "    stopwords = [\"a\", \"about\", \"above\", \"after\", \"again\", \"against\", \"all\", \"am\", \"an\", \"and\", \"any\", \"are\", \"as\", \"at\", \"be\", \"because\", \"been\", \"before\", \"being\", \"below\", \"between\", \"both\", \"but\", \"by\", \"could\", \"did\", \"do\", \"does\", \"doing\", \"down\", \"during\", \"each\", \"few\", \"for\", \"from\", \"further\", \"had\", \"has\", \"have\", \"having\", \"he\", \"he'd\", \"he'll\", \"he's\", \"her\", \"here\", \"here's\", \"hers\", \"herself\", \"him\", \"himself\", \"his\", \"how\", \"how's\", \"i\", \"i'd\", \"i'll\", \"i'm\", \"i've\", \"if\", \"in\", \"into\", \"is\", \"it\", \"it's\", \"its\", \"itself\", \"let's\", \"me\", \"more\", \"most\", \"my\", \"myself\", \"nor\", \"of\", \"on\", \"once\", \"only\", \"or\", \"other\", \"ought\", \"our\", \"ours\", \"ourselves\", \"out\", \"over\", \"own\", \"same\", \"she\", \"she'd\", \"she'll\", \"she's\", \"should\", \"so\", \"some\", \"such\", \"than\", \"that\", \"that's\", \"the\", \"their\", \"theirs\", \"them\", \"themselves\", \"then\", \"there\", \"there's\", \"these\", \"they\", \"they'd\", \"they'll\", \"they're\", \"they've\", \"this\", \"those\", \"through\", \"to\", \"too\", \"under\", \"until\", \"up\", \"very\", \"was\", \"we\", \"we'd\", \"we'll\", \"we're\", \"we've\", \"were\", \"what\", \"what's\", \"when\", \"when's\", \"where\", \"where's\", \"which\", \"while\", \"who\", \"who's\", \"whom\", \"why\", \"why's\", \"with\", \"would\", \"you\", \"you'd\", \"you'll\", \"you're\", \"you've\", \"your\", \"yours\", \"yourself\", \"yourselves\" ]\n",
    "    punc = '''!()-[]{};:'\"\\,<>./?@#$%^&*_~'''\n",
    "    \n",
    "    sentence = sentence.lower()\n",
    "    \n",
    "   \n",
    "    sentence= sentence.split()\n",
    "    sentence= [word for word in sentence if word not in stopwords]\n",
    "    sentence=[ ele for ele in sentence if ele not in punc]\n",
    "    sentence=(' ').join(sentence)\n",
    "   \n",
    "    return sentence"
   ]
  },
  {
   "cell_type": "code",
   "execution_count": 17,
   "metadata": {},
   "outputs": [],
   "source": [
    "corpus=[pre_process(sentence) for sentence in corpus]"
   ]
  },
  {
   "cell_type": "code",
   "execution_count": 18,
   "metadata": {},
   "outputs": [],
   "source": [
    "labels= np.array(train['target'].to_list())"
   ]
  },
  {
   "cell_type": "code",
   "execution_count": 19,
   "metadata": {},
   "outputs": [
    {
     "name": "stdout",
     "output_type": "stream",
     "text": [
      "[1 1 1 ... 1 1 1]\n"
     ]
    }
   ],
   "source": [
    "print(labels)"
   ]
  },
  {
   "cell_type": "code",
   "execution_count": 20,
   "metadata": {},
   "outputs": [],
   "source": [
    "train_sentences, test_sentences=corpus[ 0: 7000], corpus[ 7000: :]\n",
    "\n",
    "train_labels, test_labels= labels[ 0: 7000], labels[ 7000: :]"
   ]
  },
  {
   "cell_type": "code",
   "execution_count": 21,
   "metadata": {},
   "outputs": [],
   "source": [
    "vocab_size = 20000\n",
    "max_length=None\n",
    "embedding_dim = 16\n",
    "trunc_type='post'\n",
    "padding= 'post'\n",
    "oov_tok = \"<OOV>\""
   ]
  },
  {
   "cell_type": "code",
   "execution_count": 22,
   "metadata": {},
   "outputs": [],
   "source": [
    "from keras.preprocessing.text import Tokenizer\n",
    "from keras.utils import pad_sequences\n",
    "import tensorflow as tf"
   ]
  },
  {
   "cell_type": "code",
   "execution_count": 23,
   "metadata": {},
   "outputs": [],
   "source": [
    "tokenizer= Tokenizer(num_words=vocab_size,oov_token=oov_tok)"
   ]
  },
  {
   "cell_type": "code",
   "execution_count": 24,
   "metadata": {},
   "outputs": [],
   "source": [
    "tokenizer.fit_on_texts(train_sentences)\n",
    "word_index = tokenizer.word_index\n"
   ]
  },
  {
   "cell_type": "code",
   "execution_count": 25,
   "metadata": {},
   "outputs": [],
   "source": [
    "train_sequences=tokenizer.texts_to_sequences(train_sentences)\n",
    "train_padded= pad_sequences(train_sequences, dtype='int32',padding=padding,value=0.0)\n",
    "\n",
    "test_sequences=tokenizer.texts_to_sequences(test_sentences)\n",
    "test_padded= pad_sequences(test_sequences, maxlen=max_length,dtype='int32',padding=padding,value=0.0)"
   ]
  },
  {
   "cell_type": "code",
   "execution_count": 26,
   "metadata": {},
   "outputs": [],
   "source": [
    "lstm_dim = 200\n",
    "dense_dim=20"
   ]
  },
  {
   "cell_type": "code",
   "execution_count": 45,
   "metadata": {},
   "outputs": [
    {
     "name": "stdout",
     "output_type": "stream",
     "text": [
      "Model: \"sequential_3\"\n",
      "_________________________________________________________________\n",
      " Layer (type)                Output Shape              Param #   \n",
      "=================================================================\n",
      " embedding_3 (Embedding)     (None, 29, 16)            320000    \n",
      "                                                                 \n",
      " bidirectional_3 (Bidirectio  (None, 400)              347200    \n",
      " nal)                                                            \n",
      "                                                                 \n",
      " dense_6 (Dense)             (None, 20)                8020      \n",
      "                                                                 \n",
      " dense_7 (Dense)             (None, 1)                 21        \n",
      "                                                                 \n",
      "=================================================================\n",
      "Total params: 675,241\n",
      "Trainable params: 675,241\n",
      "Non-trainable params: 0\n",
      "_________________________________________________________________\n"
     ]
    }
   ],
   "source": [
    "model_lstm = tf.keras.Sequential([\n",
    "    tf.keras.layers.Embedding(vocab_size, embedding_dim, input_length=train_padded.shape[1]),\n",
    "    tf.keras.layers.Bidirectional(tf.keras.layers.LSTM(lstm_dim, dropout=0.2)),\n",
    "    tf.keras.layers.Dense(dense_dim, activation='relu'),\n",
    "    tf.keras.layers.Dense(1, activation='sigmoid')\n",
    "])\n",
    "\n",
    "checkpoint=tf.keras.callbacks.ModelCheckpoint('keras_model',save_best_only=True, monitor='val_loss')\n",
    "model_lstm.compile(loss='binary_crossentropy',optimizer='adam',metrics=['accuracy'])\n",
    "\n",
    "model_lstm.summary()\n",
    "\n"
   ]
  },
  {
   "cell_type": "code",
   "execution_count": 32,
   "metadata": {},
   "outputs": [
    {
     "name": "stdout",
     "output_type": "stream",
     "text": [
      "Epoch 1/10\n",
      "55/55 [==============================] - ETA: 0s - loss: 0.1902 - accuracy: 0.9280WARNING:tensorflow:Can save best model only with val_loss available, skipping.\n",
      "55/55 [==============================] - 8s 136ms/step - loss: 0.1902 - accuracy: 0.9280\n",
      "Epoch 2/10\n",
      "55/55 [==============================] - ETA: 0s - loss: 0.1209 - accuracy: 0.9577WARNING:tensorflow:Can save best model only with val_loss available, skipping.\n",
      "55/55 [==============================] - 7s 119ms/step - loss: 0.1209 - accuracy: 0.9577\n",
      "Epoch 3/10\n",
      "55/55 [==============================] - ETA: 0s - loss: 0.0720 - accuracy: 0.9750WARNING:tensorflow:Can save best model only with val_loss available, skipping.\n",
      "55/55 [==============================] - 7s 123ms/step - loss: 0.0720 - accuracy: 0.9750\n",
      "Epoch 4/10\n",
      "55/55 [==============================] - ETA: 0s - loss: 0.0621 - accuracy: 0.9794WARNING:tensorflow:Can save best model only with val_loss available, skipping.\n",
      "55/55 [==============================] - 7s 123ms/step - loss: 0.0621 - accuracy: 0.9794\n",
      "Epoch 5/10\n",
      "55/55 [==============================] - ETA: 0s - loss: 0.0437 - accuracy: 0.9876WARNING:tensorflow:Can save best model only with val_loss available, skipping.\n",
      "55/55 [==============================] - 7s 123ms/step - loss: 0.0437 - accuracy: 0.9876\n",
      "Epoch 6/10\n",
      "55/55 [==============================] - ETA: 0s - loss: 0.0382 - accuracy: 0.9901WARNING:tensorflow:Can save best model only with val_loss available, skipping.\n",
      "55/55 [==============================] - 7s 120ms/step - loss: 0.0382 - accuracy: 0.9901\n",
      "Epoch 7/10\n",
      "55/55 [==============================] - ETA: 0s - loss: 0.0291 - accuracy: 0.9920WARNING:tensorflow:Can save best model only with val_loss available, skipping.\n",
      "55/55 [==============================] - 6s 117ms/step - loss: 0.0291 - accuracy: 0.9920\n",
      "Epoch 8/10\n",
      "55/55 [==============================] - ETA: 0s - loss: 0.0264 - accuracy: 0.9930WARNING:tensorflow:Can save best model only with val_loss available, skipping.\n",
      "55/55 [==============================] - 7s 118ms/step - loss: 0.0264 - accuracy: 0.9930\n",
      "Epoch 9/10\n",
      "55/55 [==============================] - ETA: 0s - loss: 0.0218 - accuracy: 0.9947WARNING:tensorflow:Can save best model only with val_loss available, skipping.\n",
      "55/55 [==============================] - 7s 119ms/step - loss: 0.0218 - accuracy: 0.9947\n",
      "Epoch 10/10\n",
      "55/55 [==============================] - ETA: 0s - loss: 0.0164 - accuracy: 0.9953WARNING:tensorflow:Can save best model only with val_loss available, skipping.\n",
      "55/55 [==============================] - 7s 119ms/step - loss: 0.0164 - accuracy: 0.9953\n"
     ]
    }
   ],
   "source": [
    "NUM_EPOCHS = 10\n",
    "BATCH_SIZE = 128\n",
    "\n",
    "\n",
    "history_lstm = model_lstm.fit(train_padded, train_labels, batch_size=128, epochs=10, callbacks=[checkpoint])"
   ]
  },
  {
   "cell_type": "code",
   "execution_count": 49,
   "metadata": {},
   "outputs": [
    {
     "ename": "OSError",
     "evalue": "No file or directory found at Keras_model",
     "output_type": "error",
     "traceback": [
      "\u001b[0;31m---------------------------------------------------------------------------\u001b[0m",
      "\u001b[0;31mOSError\u001b[0m                                   Traceback (most recent call last)",
      "\u001b[1;32m/home/armaans/Desktop/NEW/nlp.ipynb Cell 18'\u001b[0m in \u001b[0;36m<cell line: 2>\u001b[0;34m()\u001b[0m\n\u001b[1;32m      <a href='vscode-notebook-cell:/home/armaans/Desktop/NEW/nlp.ipynb#ch0000017?line=0'>1</a>\u001b[0m \u001b[39mfrom\u001b[39;00m \u001b[39mkeras\u001b[39;00m\u001b[39m.\u001b[39;00m\u001b[39mmodels\u001b[39;00m \u001b[39mimport\u001b[39;00m load_model \n\u001b[0;32m----> <a href='vscode-notebook-cell:/home/armaans/Desktop/NEW/nlp.ipynb#ch0000017?line=1'>2</a>\u001b[0m model \u001b[39m=\u001b[39m load_model(\u001b[39m'\u001b[39;49m\u001b[39mKeras_model\u001b[39;49m\u001b[39m'\u001b[39;49m)\n\u001b[1;32m      <a href='vscode-notebook-cell:/home/armaans/Desktop/NEW/nlp.ipynb#ch0000017?line=2'>3</a>\u001b[0m test_sentences\u001b[39m=\u001b[39mtest[\u001b[39m'\u001b[39m\u001b[39mtext\u001b[39m\u001b[39m'\u001b[39m]\u001b[39m.\u001b[39mto_list()\n\u001b[1;32m      <a href='vscode-notebook-cell:/home/armaans/Desktop/NEW/nlp.ipynb#ch0000017?line=3'>4</a>\u001b[0m test_sentences\u001b[39m=\u001b[39m[pre_process(sentence) \u001b[39mfor\u001b[39;00m sentence \u001b[39min\u001b[39;00m test_sentences]\n",
      "File \u001b[0;32m~/.local/lib/python3.10/site-packages/keras/utils/traceback_utils.py:67\u001b[0m, in \u001b[0;36mfilter_traceback.<locals>.error_handler\u001b[0;34m(*args, **kwargs)\u001b[0m\n\u001b[1;32m     65\u001b[0m \u001b[39mexcept\u001b[39;00m \u001b[39mException\u001b[39;00m \u001b[39mas\u001b[39;00m e:  \u001b[39m# pylint: disable=broad-except\u001b[39;00m\n\u001b[1;32m     66\u001b[0m   filtered_tb \u001b[39m=\u001b[39m _process_traceback_frames(e\u001b[39m.\u001b[39m__traceback__)\n\u001b[0;32m---> 67\u001b[0m   \u001b[39mraise\u001b[39;00m e\u001b[39m.\u001b[39mwith_traceback(filtered_tb) \u001b[39mfrom\u001b[39;00m \u001b[39mNone\u001b[39m\n\u001b[1;32m     68\u001b[0m \u001b[39mfinally\u001b[39;00m:\n\u001b[1;32m     69\u001b[0m   \u001b[39mdel\u001b[39;00m filtered_tb\n",
      "File \u001b[0;32m~/.local/lib/python3.10/site-packages/keras/saving/save.py:206\u001b[0m, in \u001b[0;36mload_model\u001b[0;34m(filepath, custom_objects, compile, options)\u001b[0m\n\u001b[1;32m    204\u001b[0m \u001b[39mif\u001b[39;00m \u001b[39misinstance\u001b[39m(filepath_str, \u001b[39mstr\u001b[39m):\n\u001b[1;32m    205\u001b[0m   \u001b[39mif\u001b[39;00m \u001b[39mnot\u001b[39;00m tf\u001b[39m.\u001b[39mio\u001b[39m.\u001b[39mgfile\u001b[39m.\u001b[39mexists(filepath_str):\n\u001b[0;32m--> 206\u001b[0m     \u001b[39mraise\u001b[39;00m \u001b[39mIOError\u001b[39;00m(\u001b[39mf\u001b[39m\u001b[39m'\u001b[39m\u001b[39mNo file or directory found at \u001b[39m\u001b[39m{\u001b[39;00mfilepath_str\u001b[39m}\u001b[39;00m\u001b[39m'\u001b[39m)\n\u001b[1;32m    208\u001b[0m   \u001b[39mif\u001b[39;00m tf\u001b[39m.\u001b[39mio\u001b[39m.\u001b[39mgfile\u001b[39m.\u001b[39misdir(filepath_str):\n\u001b[1;32m    209\u001b[0m     \u001b[39mreturn\u001b[39;00m saved_model_load\u001b[39m.\u001b[39mload(filepath_str, \u001b[39mcompile\u001b[39m, options)\n",
      "\u001b[0;31mOSError\u001b[0m: No file or directory found at Keras_model"
     ]
    }
   ],
   "source": [
    "from keras.models import load_model \n",
    "model = load_model('Keras_model')\n",
    "test_sentences=test['text'].to_list()\n",
    "test_sentences=[pre_process(sentence) for sentence in test_sentences]"
   ]
  },
  {
   "cell_type": "code",
   "execution_count": 35,
   "metadata": {},
   "outputs": [],
   "source": [
    "test_sequences=tokenizer.texts_to_sequences(test_sentences)\n",
    "test_padded= pad_sequences(test_sequences, maxlen=max_length,dtype='int32',padding=padding,value=0.0)"
   ]
  },
  {
   "cell_type": "code",
   "execution_count": 51,
   "metadata": {},
   "outputs": [
    {
     "name": "stdout",
     "output_type": "stream",
     "text": [
      "102/102 [==============================] - 4s 29ms/step\n"
     ]
    }
   ],
   "source": [
    "prediction = model_lstm.predict(test_padded)"
   ]
  },
  {
   "cell_type": "code",
   "execution_count": 52,
   "metadata": {},
   "outputs": [
    {
     "data": {
      "text/plain": [
       "array([[0.4999969 ],\n",
       "       [0.50154275],\n",
       "       [0.50049436],\n",
       "       ...,\n",
       "       [0.50100166],\n",
       "       [0.50121   ],\n",
       "       [0.500652  ]], dtype=float32)"
      ]
     },
     "execution_count": 52,
     "metadata": {},
     "output_type": "execute_result"
    }
   ],
   "source": [
    "prediction"
   ]
  },
  {
   "cell_type": "code",
   "execution_count": 53,
   "metadata": {},
   "outputs": [],
   "source": [
    "prediction[prediction>=0.5]=1\n",
    "prediction[prediction<0.5]=0"
   ]
  },
  {
   "cell_type": "code",
   "execution_count": 55,
   "metadata": {},
   "outputs": [],
   "source": [
    "sample_submission=pd.read_csv('sample_submission.csv')"
   ]
  },
  {
   "cell_type": "code",
   "execution_count": 56,
   "metadata": {},
   "outputs": [],
   "source": [
    "sample_submission['target']=prediction\n",
    "sample_submission['target']=sample_submission['target'].astype(int)"
   ]
  },
  {
   "cell_type": "code",
   "execution_count": 57,
   "metadata": {},
   "outputs": [],
   "source": [
    "sample_submission.to_csv('submission.csv', index=False)"
   ]
  },
  {
   "cell_type": "code",
   "execution_count": null,
   "metadata": {},
   "outputs": [],
   "source": []
  }
 ],
 "metadata": {
  "kernelspec": {
   "display_name": "Python 3.10.2 64-bit",
   "language": "python",
   "name": "python3"
  },
  "language_info": {
   "codemirror_mode": {
    "name": "ipython",
    "version": 3
   },
   "file_extension": ".py",
   "mimetype": "text/x-python",
   "name": "python",
   "nbconvert_exporter": "python",
   "pygments_lexer": "ipython3",
   "version": "3.10.2"
  },
  "orig_nbformat": 4,
  "vscode": {
   "interpreter": {
    "hash": "e7370f93d1d0cde622a1f8e1c04877d8463912d04d973331ad4851f04de6915a"
   }
  }
 },
 "nbformat": 4,
 "nbformat_minor": 2
}
